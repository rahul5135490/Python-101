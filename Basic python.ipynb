{
 "cells": [
  {
   "cell_type": "code",
   "execution_count": 1,
   "id": "482747c7",
   "metadata": {},
   "outputs": [],
   "source": [
    "A={2,4,6,5}"
   ]
  },
  {
   "cell_type": "code",
   "execution_count": 2,
   "id": "d1d71acc",
   "metadata": {},
   "outputs": [],
   "source": [
    "B={1,3,5,4}"
   ]
  },
  {
   "cell_type": "code",
   "execution_count": 3,
   "id": "25ca1ac3",
   "metadata": {},
   "outputs": [
    {
     "name": "stdout",
     "output_type": "stream",
     "text": [
      "{1, 2, 3, 4, 5, 6}\n"
     ]
    }
   ],
   "source": [
    "print(A|B)"
   ]
  },
  {
   "cell_type": "code",
   "execution_count": 4,
   "id": "cf36c221",
   "metadata": {},
   "outputs": [
    {
     "name": "stdout",
     "output_type": "stream",
     "text": [
      "{4, 5}\n"
     ]
    }
   ],
   "source": [
    "print(A & B)"
   ]
  },
  {
   "cell_type": "code",
   "execution_count": 5,
   "id": "f870dcea",
   "metadata": {},
   "outputs": [
    {
     "name": "stdout",
     "output_type": "stream",
     "text": [
      "{2, 6}\n"
     ]
    }
   ],
   "source": [
    "print(A-B)"
   ]
  },
  {
   "cell_type": "code",
   "execution_count": 6,
   "id": "1037f7a1",
   "metadata": {},
   "outputs": [
    {
     "name": "stdout",
     "output_type": "stream",
     "text": [
      "{1, 2, 3, 6}\n"
     ]
    }
   ],
   "source": [
    "print(A^B)"
   ]
  },
  {
   "cell_type": "code",
   "execution_count": 7,
   "id": "dda83a1b",
   "metadata": {},
   "outputs": [],
   "source": [
    "Dict={\"kamla\":\"nehru\"}"
   ]
  },
  {
   "cell_type": "code",
   "execution_count": 8,
   "id": "71a9257f",
   "metadata": {},
   "outputs": [],
   "source": [
    "Dict1={\"Python\":40,\"R\":45}"
   ]
  },
  {
   "cell_type": "code",
   "execution_count": 9,
   "id": "9028a5c3",
   "metadata": {},
   "outputs": [],
   "source": [
    "del Dict1[\"R\"]"
   ]
  },
  {
   "cell_type": "code",
   "execution_count": 10,
   "id": "c6ba960f",
   "metadata": {},
   "outputs": [
    {
     "data": {
      "text/plain": [
       "{'Python': 40}"
      ]
     },
     "execution_count": 10,
     "metadata": {},
     "output_type": "execute_result"
    }
   ],
   "source": [
    "Dict1"
   ]
  },
  {
   "cell_type": "code",
   "execution_count": null,
   "id": "a885e48c",
   "metadata": {},
   "outputs": [],
   "source": []
  }
 ],
 "metadata": {
  "kernelspec": {
   "display_name": "Python 3 (ipykernel)",
   "language": "python",
   "name": "python3"
  },
  "language_info": {
   "codemirror_mode": {
    "name": "ipython",
    "version": 3
   },
   "file_extension": ".py",
   "mimetype": "text/x-python",
   "name": "python",
   "nbconvert_exporter": "python",
   "pygments_lexer": "ipython3",
   "version": "3.9.13"
  }
 },
 "nbformat": 4,
 "nbformat_minor": 5
}

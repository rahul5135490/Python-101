{
 "cells": [
  {
   "cell_type": "code",
   "execution_count": 1,
   "id": "9e1885b2-9700-44c4-90ed-6e0e666839e1",
   "metadata": {},
   "outputs": [
    {
     "name": "stdout",
     "output_type": "stream",
     "text": [
      "Original List of Numbers: [1, 2, 3, 4, 5, 6, 7, 8, 9, 10]\n",
      "Original List of Fruits: ['apple', 'banana', 'cherry', 'date', 'elderberry']\n",
      "First number: 1\n",
      "Last fruit: elderberry\n",
      "Third fruit: cherry\n",
      "Numbers from index 2 to 5 (exclusive): [3, 4, 5]\n",
      "First three fruits: ['apple', 'banana', 'cherry']\n",
      "Fruits from index 2 to end: ['cherry', 'date', 'elderberry']\n",
      "Every other number: [1, 3, 5, 7, 9]\n",
      "Reversed numbers list: [10, 9, 8, 7, 6, 5, 4, 3, 2, 1]\n"
     ]
    }
   ],
   "source": [
    "# Create a list of numbers\n",
    "numbers = [1, 2, 3, 4, 5, 6, 7, 8, 9, 10]\n",
    "print(f\"Original List of Numbers: {numbers}\")\n",
    "\n",
    "# Create a list of strings (e.g., fruits)\n",
    "fruits = [\"apple\", \"banana\", \"cherry\", \"date\", \"elderberry\"]\n",
    "print(f\"Original List of Fruits: {fruits}\")\n",
    "\n",
    "# Accessing elements by index\n",
    "print(f\"First number: {numbers[0]}\")\n",
    "print(f\"Last fruit: {fruits[-1]}\") # Negative indexing accesses from the end\n",
    "print(f\"Third fruit: {fruits[2]}\")\n",
    "\n",
    "# Slicing lists (start:end:step)\n",
    "print(f\"Numbers from index 2 to 5 (exclusive): {numbers[2:5]}\")\n",
    "print(f\"First three fruits: {fruits[:3]}\")\n",
    "print(f\"Fruits from index 2 to end: {fruits[2:]}\")\n",
    "print(f\"Every other number: {numbers[::2]}\") # Step of 2\n",
    "print(f\"Reversed numbers list: {numbers[::-1]}\") # Reverse the list"
   ]
  },
  {
   "cell_type": "code",
   "execution_count": 3,
   "id": "d4e5a17e-f7ee-44d2-92c2-2099c8e7284c",
   "metadata": {},
   "outputs": [
    {
     "name": "stdout",
     "output_type": "stream",
     "text": [
      "Initial list: ['car', 'bike', 'bus']\n",
      "After append 'train': ['car', 'bike', 'bus', 'train']\n",
      "After extending with 'airplane', 'boat': ['car', 'bike', 'bus', 'train', 'airplane', 'boat']\n",
      "After inserting 'scooter' at index 1: ['car', 'scooter', 'bike', 'bus', 'train', 'airplane', 'boat']\n",
      "After removing 'bike': ['car', 'scooter', 'bus', 'train', 'airplane', 'boat']\n",
      "After popping item at index 0: ['scooter', 'bus', 'train', 'airplane', 'boat'], Removed: car\n",
      "After changing item at index 1 to 'helicopter': ['scooter', 'helicopter', 'train', 'airplane', 'boat']\n",
      "Length of the list: 5\n",
      "Sorted list: ['airplane', 'boat', 'helicopter', 'scooter', 'train']\n",
      "Reversed list: ['train', 'scooter', 'helicopter', 'boat', 'airplane']\n"
     ]
    }
   ],
   "source": [
    "my_list = [\"car\", \"bike\", \"bus\"]\n",
    "print(f\"Initial list: {my_list}\")\n",
    "\n",
    "# Add an item to the end of the list using append()\n",
    "my_list.append(\"train\")\n",
    "print(f\"After append 'train': {my_list}\")\n",
    "\n",
    "# Add multiple items from another list using extend()\n",
    "vehicles_to_add = [\"airplane\", \"boat\"]\n",
    "my_list.extend(vehicles_to_add)\n",
    "print(f\"After extending with 'airplane', 'boat': {my_list}\")\n",
    "\n",
    "# Insert an item at a specific index using insert(index, item)\n",
    "my_list.insert(1, \"scooter\") # Insert 'scooter' at index 1\n",
    "print(f\"After inserting 'scooter' at index 1: {my_list}\")\n",
    "\n",
    "# Remove an item by its value using remove()\n",
    "my_list.remove(\"bike\")\n",
    "print(f\"After removing 'bike': {my_list}\")\n",
    "\n",
    "# Remove an item by its index and return its value using pop()\n",
    "removed_item = my_list.pop(0) # Removes the item at index 0 (which is \"car\")\n",
    "print(f\"After popping item at index 0: {my_list}, Removed: {removed_item}\")\n",
    "\n",
    "# Change an item's value by index\n",
    "my_list[1] = \"helicopter\" # Original: \"scooter\", Changed: \"helicopter\"\n",
    "print(f\"After changing item at index 1 to 'helicopter': {my_list}\")\n",
    "\n",
    "# Find the length of the list\n",
    "print(f\"Length of the list: {len(my_list)}\")\n",
    "\n",
    "# Sort the list (in-place)\n",
    "my_list.sort()\n",
    "print(f\"Sorted list: {my_list}\")\n",
    "\n",
    "# Reverse the list (in-place)\n",
    "my_list.reverse()\n",
    "print(f\"Reversed list: {my_list}\")"
   ]
  },
  {
   "cell_type": "code",
   "execution_count": 5,
   "id": "c0041e2d-93ad-45ad-870c-76595433d7f5",
   "metadata": {},
   "outputs": [],
   "source": [
    "##Tuples"
   ]
  },
  {
   "cell_type": "code",
   "execution_count": 7,
   "id": "e8358583-f237-462d-a662-f3ee763274aa",
   "metadata": {},
   "outputs": [
    {
     "name": "stdout",
     "output_type": "stream",
     "text": [
      "Coordinates tuple: (10.0, 20.0)\n",
      "Person Info tuple: ('Alice', 30, 'Engineer')\n",
      "First coordinate: 10.0\n",
      "Person's name: Alice\n",
      "Person's age: 30\n",
      "Last two person info elements: (30, 'Engineer')\n",
      "Length of coordinates tuple: 2\n"
     ]
    }
   ],
   "source": [
    "# Create a tuple of coordinates\n",
    "coordinates = (10.0, 20.0)\n",
    "print(f\"Coordinates tuple: {coordinates}\")\n",
    "\n",
    "# Create a tuple of mixed data types\n",
    "person_info = (\"Alice\", 30, \"Engineer\")\n",
    "print(f\"Person Info tuple: {person_info}\")\n",
    "\n",
    "# Accessing elements by index (same as lists)\n",
    "print(f\"First coordinate: {coordinates[0]}\")\n",
    "print(f\"Person's name: {person_info[0]}\")\n",
    "print(f\"Person's age: {person_info[1]}\")\n",
    "\n",
    "# Slicing tuples (same as lists)\n",
    "print(f\"Last two person info elements: {person_info[1:]}\")\n",
    "\n",
    "# Get the length of a tuple\n",
    "print(f\"Length of coordinates tuple: {len(coordinates)}\")\n",
    "\n",
    "# TRY TO MODIFY A TUPLE (This will raise an error)\n",
    "# Uncomment the line below to see the TypeError\n",
    "# coordinates[0] = 15.0\n",
    "# print(f\"Attempted to modify coordinates: {coordinates}\")"
   ]
  },
  {
   "cell_type": "code",
   "execution_count": null,
   "id": "29802619-c156-4d3c-a3a5-1426734f2066",
   "metadata": {},
   "outputs": [],
   "source": []
  }
 ],
 "metadata": {
  "kernelspec": {
   "display_name": "Python 3 (ipykernel)",
   "language": "python",
   "name": "python3"
  },
  "language_info": {
   "codemirror_mode": {
    "name": "ipython",
    "version": 3
   },
   "file_extension": ".py",
   "mimetype": "text/x-python",
   "name": "python",
   "nbconvert_exporter": "python",
   "pygments_lexer": "ipython3",
   "version": "3.12.3"
  }
 },
 "nbformat": 4,
 "nbformat_minor": 5
}

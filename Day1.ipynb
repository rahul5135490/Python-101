{
 "cells": [
  {
   "cell_type": "code",
   "execution_count": 1,
   "id": "812dbf9e-80d6-4b92-86c7-696f766c1f02",
   "metadata": {},
   "outputs": [
    {
     "name": "stdout",
     "output_type": "stream",
     "text": [
      "Hello World!\n",
      "My name is [Rahul] and I am from [Delhi].\n"
     ]
    }
   ],
   "source": [
    "print(\"Hello World!\")\n",
    "print(\"My name is [Rahul] and I am from [Delhi].\")"
   ]
  },
  {
   "cell_type": "code",
   "execution_count": 3,
   "id": "477f415a-1dcc-4724-ad75-93ad2a3b7c3b",
   "metadata": {},
   "outputs": [
    {
     "name": "stdout",
     "output_type": "stream",
     "text": [
      "Sum: 15\n",
      "Difference: 5\n",
      "Product: 50\n",
      "Quotient: 2.0\n",
      "Floor Division: 2\n",
      "Modulo (Remainder): 0\n",
      "My favorite color is Blue.\n"
     ]
    }
   ],
   "source": [
    "# Store two numbers in variables\n",
    "num1 = 10\n",
    "num2 = 5\n",
    "\n",
    "# Perform arithmetic operations and print results\n",
    "print(f\"Sum: {num1 + num2}\")\n",
    "print(f\"Difference: {num1 - num2}\")\n",
    "print(f\"Product: {num1 * num2}\")\n",
    "print(f\"Quotient: {num1 / num2}\") # This will give a float result\n",
    "print(f\"Floor Division: {num1 // num2}\") # This will give an integer result, rounding down\n",
    "print(f\"Modulo (Remainder): {num1 % num2}\") # This will give the remainder of the division\n",
    "\n",
    "# Store your favorite color and print it in a sentence\n",
    "favorite_color = \"Blue\"\n",
    "print(f\"My favorite color is {favorite_color}.\")"
   ]
  },
  {
   "cell_type": "code",
   "execution_count": 5,
   "id": "78025d98-8ce4-4e16-862a-4459054722c4",
   "metadata": {},
   "outputs": [
    {
     "name": "stdout",
     "output_type": "stream",
     "text": [
      "Value: 25, Type: <class 'int'>\n",
      "Value: 3.14159, Type: <class 'float'>\n",
      "Value: Alice, Type: <class 'str'>\n",
      "Value: True, Type: <class 'bool'>\n"
     ]
    }
   ],
   "source": [
    "# Integer data type (whole number)\n",
    "age = 25\n",
    "print(f\"Value: {age}, Type: {type(age)}\")\n",
    "\n",
    "# Float data type (number with decimal)\n",
    "pi = 3.14159\n",
    "print(f\"Value: {pi}, Type: {type(pi)}\")\n",
    "\n",
    "# String data type (text)\n",
    "name = \"Alice\"\n",
    "print(f\"Value: {name}, Type: {type(name)}\")\n",
    "\n",
    "# Boolean data type (True or False)\n",
    "is_student = True\n",
    "print(f\"Value: {is_student}, Type: {type(is_student)}\")"
   ]
  },
  {
   "cell_type": "code",
   "execution_count": 7,
   "id": "9f029323-adc7-4192-93fe-0b5ebf5c2d53",
   "metadata": {},
   "outputs": [
    {
     "name": "stdout",
     "output_type": "stream",
     "text": [
      "Is x equal to y? False\n",
      "Is x not equal to y? True\n",
      "Is x greater than y? False\n",
      "Is x less than y? True\n",
      "Is x greater than or equal to y? False\n",
      "Is x less than or equal to y? True\n",
      "\n",
      "Is it sunny AND warm? False\n",
      "Is it sunny OR warm? True\n",
      "Is it NOT sunny? False\n",
      "Is it sunny AND (warm OR weekend)? True\n"
     ]
    }
   ],
   "source": [
    "# Comparison Operators (Output is always True or False - a boolean value)\n",
    "x = 10\n",
    "y = 12\n",
    "\n",
    "print(f\"Is x equal to y? {x == y}\")       # Checks if values are equal\n",
    "print(f\"Is x not equal to y? {x != y}\")   # Checks if values are not equal\n",
    "print(f\"Is x greater than y? {x > y}\")    # Checks if x is greater than y\n",
    "print(f\"Is x less than y? {x < y}\")      # Checks if x is less than y\n",
    "print(f\"Is x greater than or equal to y? {x >= y}\") # Checks if x is greater than or equal to y\n",
    "print(f\"Is x less than or equal to y? {x <= y}\")   # Checks if x is less than or equal to y\n",
    "\n",
    "# Logical Operators (Used with boolean values)\n",
    "is_sunny = True\n",
    "is_warm = False\n",
    "is_weekend = True\n",
    "\n",
    "print(f\"\\nIs it sunny AND warm? {is_sunny and is_warm}\") # True if BOTH are True\n",
    "print(f\"Is it sunny OR warm? {is_sunny or is_warm}\")   # True if AT LEAST ONE is True\n",
    "print(f\"Is it NOT sunny? {not is_sunny}\")           # Inverts the boolean value\n",
    "\n",
    "# Combining logical operators\n",
    "print(f\"Is it sunny AND (warm OR weekend)? {is_sunny and (is_warm or is_weekend)}\")"
   ]
  },
  {
   "cell_type": "code",
   "execution_count": null,
   "id": "fa2fff0e-d792-4d6d-b0e5-10890f68a5fb",
   "metadata": {},
   "outputs": [],
   "source": []
  }
 ],
 "metadata": {
  "kernelspec": {
   "display_name": "Python 3 (ipykernel)",
   "language": "python",
   "name": "python3"
  },
  "language_info": {
   "codemirror_mode": {
    "name": "ipython",
    "version": 3
   },
   "file_extension": ".py",
   "mimetype": "text/x-python",
   "name": "python",
   "nbconvert_exporter": "python",
   "pygments_lexer": "ipython3",
   "version": "3.12.3"
  }
 },
 "nbformat": 4,
 "nbformat_minor": 5
}

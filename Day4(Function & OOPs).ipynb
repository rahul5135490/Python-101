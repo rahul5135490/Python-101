{
 "cells": [
  {
   "cell_type": "code",
   "execution_count": 1,
   "id": "5b1cf731-b63e-4277-a5df-0eb030306ed0",
   "metadata": {},
   "outputs": [
    {
     "name": "stdout",
     "output_type": "stream",
     "text": [
      "Sum of 10 and 20: 30\n",
      "Hello, Alice! Welcome to the world of Python.\n",
      "Hello, Bob! Welcome to the world of Python.\n",
      "The largest number in [5, 12, 3, 9, 20, 8] is: 20\n",
      "The largest number in [] is: None\n",
      "Using lambda: 5 multiplied by 2 is 10\n"
     ]
    }
   ],
   "source": [
    "# Function 1: Add two numbers\n",
    "def add_numbers(a, b):\n",
    "    \"\"\"\n",
    "    This function takes two numbers and returns their sum.\n",
    "    \"\"\"\n",
    "    return a + b\n",
    "\n",
    "# Call the function and print the result\n",
    "sum_result = add_numbers(10, 20)\n",
    "print(f\"Sum of 10 and 20: {sum_result}\")\n",
    "\n",
    "# Function 2: Greet a person\n",
    "def greet_person(name):\n",
    "    \"\"\"\n",
    "    This function takes a name and prints a greeting message.\n",
    "    \"\"\"\n",
    "    print(f\"Hello, {name}! Welcome to the world of Python.\")\n",
    "\n",
    "# Call the function\n",
    "greet_person(\"Alice\")\n",
    "greet_person(\"Bob\")\n",
    "\n",
    "# Function 3: Find the largest number in a list\n",
    "def find_largest(numbers_list):\n",
    "    \"\"\"\n",
    "    This function takes a list of numbers and returns the largest number in it.\n",
    "    \"\"\"\n",
    "    if not numbers_list: # Check if the list is empty\n",
    "        return None # Return None if list is empty to avoid error\n",
    "    largest = numbers_list[0]\n",
    "    for num in numbers_list:\n",
    "        if num > largest:\n",
    "            largest = num\n",
    "    return largest\n",
    "\n",
    "# Test the function\n",
    "my_num_list = [5, 12, 3, 9, 20, 8]\n",
    "largest_num = find_largest(my_num_list)\n",
    "print(f\"The largest number in {my_num_list} is: {largest_num}\")\n",
    "\n",
    "empty_list = []\n",
    "largest_in_empty = find_largest(empty_list)\n",
    "print(f\"The largest number in {empty_list} is: {largest_in_empty}\")\n",
    "\n",
    "# Lambda Function: A small anonymous function\n",
    "# Syntax: lambda arguments: expression\n",
    "multiply_by_two = lambda x: x * 2\n",
    "print(f\"Using lambda: 5 multiplied by 2 is {multiply_by_two(5)}\")"
   ]
  },
  {
   "cell_type": "code",
   "execution_count": null,
   "id": "f136d895-a71e-4c04-afca-1ec2fe187cfb",
   "metadata": {},
   "outputs": [],
   "source": []
  }
 ],
 "metadata": {
  "kernelspec": {
   "display_name": "Python 3 (ipykernel)",
   "language": "python",
   "name": "python3"
  },
  "language_info": {
   "codemirror_mode": {
    "name": "ipython",
    "version": 3
   },
   "file_extension": ".py",
   "mimetype": "text/x-python",
   "name": "python",
   "nbconvert_exporter": "python",
   "pygments_lexer": "ipython3",
   "version": "3.12.3"
  }
 },
 "nbformat": 4,
 "nbformat_minor": 5
}

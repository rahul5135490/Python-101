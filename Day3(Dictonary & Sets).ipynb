{
 "cells": [
  {
   "cell_type": "code",
   "execution_count": 1,
   "id": "5493642f-63d4-43f7-8ee4-7a478798eb2a",
   "metadata": {},
   "outputs": [
    {
     "name": "stdout",
     "output_type": "stream",
     "text": [
      "Initial person dictionary: {'name': 'Arjun', 'age': 30, 'city': 'Delhi', 'occupation': 'Software Engineer'}\n",
      "Person's name: Arjun\n",
      "Person's age: 30\n",
      "After adding email: {'name': 'Arjun', 'age': 30, 'city': 'Delhi', 'occupation': 'Software Engineer', 'email': 'arjun@example.com'}\n",
      "After updating age: {'name': 'Arjun', 'age': 31, 'city': 'Delhi', 'occupation': 'Software Engineer', 'email': 'arjun@example.com'}\n",
      "After deleting occupation: {'name': 'Arjun', 'age': 31, 'city': 'Delhi', 'email': 'arjun@example.com'}\n",
      "All keys: dict_keys(['name', 'age', 'city', 'email'])\n",
      "All values: dict_values(['Arjun', 31, 'Delhi', 'arjun@example.com'])\n",
      "All items: dict_items([('name', 'Arjun'), ('age', 31), ('city', 'Delhi'), ('email', 'arjun@example.com')])\n",
      "Does 'city' key exist? True\n",
      "Does 'country' key exist? False\n"
     ]
    }
   ],
   "source": [
    "# Create a dictionary representing a person's information\n",
    "person = {\n",
    "    \"name\": \"Arjun\",\n",
    "    \"age\": 30,\n",
    "    \"city\": \"Delhi\",\n",
    "    \"occupation\": \"Software Engineer\"\n",
    "}\n",
    "print(f\"Initial person dictionary: {person}\")\n",
    "\n",
    "# Accessing values by key\n",
    "print(f\"Person's name: {person['name']}\")\n",
    "print(f\"Person's age: {person['age']}\")\n",
    "\n",
    "# Adding a new key-value pair\n",
    "person[\"email\"] = \"arjun@example.com\"\n",
    "print(f\"After adding email: {person}\")\n",
    "\n",
    "# Modifying an existing value\n",
    "person[\"age\"] = 31\n",
    "print(f\"After updating age: {person}\")\n",
    "\n",
    "# Deleting a key-value pair\n",
    "del person[\"occupation\"]\n",
    "print(f\"After deleting occupation: {person}\")\n",
    "\n",
    "# Getting all keys\n",
    "keys = person.keys()\n",
    "print(f\"All keys: {keys}\")\n",
    "\n",
    "# Getting all values\n",
    "values = person.values()\n",
    "print(f\"All values: {values}\")\n",
    "\n",
    "# Getting all items (key-value pairs)\n",
    "items = person.items()\n",
    "print(f\"All items: {items}\")\n",
    "\n",
    "# Check if a key exists\n",
    "print(f\"Does 'city' key exist? {'city' in person}\")\n",
    "print(f\"Does 'country' key exist? {'country' in person}\")"
   ]
  },
  {
   "cell_type": "code",
   "execution_count": 3,
   "id": "2b12d5ac-e069-4c66-9586-82eea6c1fa1f",
   "metadata": {},
   "outputs": [
    {
     "name": "stdout",
     "output_type": "stream",
     "text": [
      "List with duplicates: [1, 2, 2, 3, 4, 4, 5, 1]\n",
      "Set of unique numbers: {1, 2, 3, 4, 5}\n",
      "Even numbers set: {8, 2, 4, 6}\n",
      "After adding 6 to unique_numbers: {1, 2, 3, 4, 5, 6}\n",
      "After trying to add existing 4: {1, 2, 3, 4, 5, 6}\n",
      "After removing 1 from unique_numbers: {2, 3, 4, 5, 6}\n",
      "Union of unique_numbers and even_numbers: {2, 3, 4, 5, 6, 8}\n",
      "Intersection of unique_numbers and even_numbers: {2, 4, 6}\n",
      "Difference (unique_numbers - even_numbers): {3, 5}\n",
      "Is {2, 4} a subset of unique_numbers? {2, 4}.issubset(unique_numbers)\n"
     ]
    }
   ],
   "source": [
    "# Create a set from a list with duplicates\n",
    "numbers = [1, 2, 2, 3, 4, 4, 5, 1]\n",
    "unique_numbers = set(numbers)\n",
    "print(f\"List with duplicates: {numbers}\")\n",
    "print(f\"Set of unique numbers: {unique_numbers}\") # Notice duplicates are removed\n",
    "\n",
    "# Create another set\n",
    "even_numbers = {2, 4, 6, 8}\n",
    "print(f\"Even numbers set: {even_numbers}\")\n",
    "\n",
    "# Add an item to a set\n",
    "unique_numbers.add(6)\n",
    "print(f\"After adding 6 to unique_numbers: {unique_numbers}\")\n",
    "\n",
    "# Try to add an existing item (it won't change the set)\n",
    "unique_numbers.add(4)\n",
    "print(f\"After trying to add existing 4: {unique_numbers}\")\n",
    "\n",
    "# Remove an item from a set\n",
    "unique_numbers.remove(1)\n",
    "print(f\"After removing 1 from unique_numbers: {unique_numbers}\")\n",
    "\n",
    "# Set operations\n",
    "# Union (all unique elements from both sets)\n",
    "union_set = unique_numbers.union(even_numbers)\n",
    "print(f\"Union of unique_numbers and even_numbers: {union_set}\")\n",
    "\n",
    "# Intersection (common elements in both sets)\n",
    "intersection_set = unique_numbers.intersection(even_numbers)\n",
    "print(f\"Intersection of unique_numbers and even_numbers: {intersection_set}\")\n",
    "\n",
    "# Difference (elements in unique_numbers but not in even_numbers)\n",
    "difference_set = unique_numbers.difference(even_numbers)\n",
    "print(f\"Difference (unique_numbers - even_numbers): {difference_set}\")\n",
    "\n",
    "# Check for subset\n",
    "print(f\"Is {{2, 4}} a subset of unique_numbers? {{2, 4}}.issubset(unique_numbers)\")"
   ]
  },
  {
   "cell_type": "code",
   "execution_count": null,
   "id": "a64c8ec2-3b2e-4635-a7dd-00a3570e394a",
   "metadata": {},
   "outputs": [],
   "source": []
  }
 ],
 "metadata": {
  "kernelspec": {
   "display_name": "Python 3 (ipykernel)",
   "language": "python",
   "name": "python3"
  },
  "language_info": {
   "codemirror_mode": {
    "name": "ipython",
    "version": 3
   },
   "file_extension": ".py",
   "mimetype": "text/x-python",
   "name": "python",
   "nbconvert_exporter": "python",
   "pygments_lexer": "ipython3",
   "version": "3.12.3"
  }
 },
 "nbformat": 4,
 "nbformat_minor": 5
}

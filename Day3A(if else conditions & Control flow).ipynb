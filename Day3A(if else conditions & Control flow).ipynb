{
 "cells": [
  {
   "cell_type": "code",
   "execution_count": 1,
   "id": "6e3ed38b-95bf-4284-9049-fd33c8740df7",
   "metadata": {},
   "outputs": [
    {
     "name": "stdout",
     "output_type": "stream",
     "text": [
      "-7 is a negative number.\n",
      "14 is an even number.\n",
      "With a score of 75, your grade is: C\n"
     ]
    }
   ],
   "source": [
    "# Check if a number is positive, negative, or zero\n",
    "number = -7 # You can change this value to test different cases\n",
    "\n",
    "if number > 0:\n",
    "    print(f\"{number} is a positive number.\")\n",
    "elif number < 0:\n",
    "    print(f\"{number} is a negative number.\")\n",
    "else:\n",
    "    print(f\"{number} is zero.\")\n",
    "\n",
    "# Check if a number is even or odd\n",
    "# The modulo operator (%) returns the remainder of a division.\n",
    "# If a number divided by 2 has a remainder of 0, it's even.\n",
    "check_number = 14 # Change this value to test\n",
    "if check_number % 2 == 0:\n",
    "    print(f\"{check_number} is an even number.\")\n",
    "else:\n",
    "    print(f\"{check_number} is an odd number.\")\n",
    "\n",
    "# Simple grading system based on score\n",
    "score = 75 # Change this value to test\n",
    "if score >= 90:\n",
    "    grade = \"A\"\n",
    "elif score >= 80:\n",
    "    grade = \"B\"\n",
    "elif score >= 70:\n",
    "    grade = \"C\"\n",
    "elif score >= 60:\n",
    "    grade = \"D\"\n",
    "else:\n",
    "    grade = \"F\"\n",
    "print(f\"With a score of {score}, your grade is: {grade}\")"
   ]
  },
  {
   "cell_type": "code",
   "execution_count": 3,
   "id": "40666ec5-20c7-4cd2-999d-740892f67dac",
   "metadata": {},
   "outputs": [
    {
     "name": "stdout",
     "output_type": "stream",
     "text": [
      "Fruits in the list:\n",
      "apple\n",
      "banana\n",
      "cherry\n",
      "date\n",
      "\n",
      "Numbers from 1 to 5:\n",
      "1\n",
      "2\n",
      "3\n",
      "4\n",
      "5\n",
      "\n",
      "Counting with while loop:\n",
      "Current count: 0\n",
      "Current count: 1\n",
      "Current count: 2\n",
      "Current count: 3\n",
      "Current count: 4\n",
      "\n",
      "Loop with break and continue:\n",
      "1\n",
      "2\n",
      "3\n",
      "4\n",
      "Breaking loop at 5!\n"
     ]
    }
   ],
   "source": [
    "# Using a 'for' loop to iterate through a list\n",
    "fruits = [\"apple\", \"banana\", \"cherry\", \"date\"]\n",
    "print(\"Fruits in the list:\")\n",
    "for fruit in fruits:\n",
    "    print(fruit)\n",
    "\n",
    "# Using 'for' loop with range() to print numbers\n",
    "print(\"\\nNumbers from 1 to 5:\")\n",
    "for i in range(1, 6): # range(start, stop) generates numbers up to stop-1\n",
    "    print(i)\n",
    "\n",
    "# Using a 'while' loop\n",
    "count = 0\n",
    "print(\"\\nCounting with while loop:\")\n",
    "while count < 5:\n",
    "    print(f\"Current count: {count}\")\n",
    "    count += 1 # Increment count by 1 (shorthand for count = count + 1)\n",
    "\n",
    "# Using 'break' and 'continue' in a loop\n",
    "print(\"\\nLoop with break and continue:\")\n",
    "for i in range(1, 11):\n",
    "    if i == 5:\n",
    "        print(\"Breaking loop at 5!\")\n",
    "        break # Exit the loop entirely\n",
    "    if i == 7:\n",
    "        print(\"Skipping 7...\")\n",
    "        continue # Skip the rest of the current iteration and go to the next\n",
    "    print(i)"
   ]
  },
  {
   "cell_type": "code",
   "execution_count": null,
   "id": "4a3b4912-c119-4d3f-b87e-42abb60a4560",
   "metadata": {},
   "outputs": [],
   "source": []
  }
 ],
 "metadata": {
  "kernelspec": {
   "display_name": "Python 3 (ipykernel)",
   "language": "python",
   "name": "python3"
  },
  "language_info": {
   "codemirror_mode": {
    "name": "ipython",
    "version": 3
   },
   "file_extension": ".py",
   "mimetype": "text/x-python",
   "name": "python",
   "nbconvert_exporter": "python",
   "pygments_lexer": "ipython3",
   "version": "3.12.3"
  }
 },
 "nbformat": 4,
 "nbformat_minor": 5
}
